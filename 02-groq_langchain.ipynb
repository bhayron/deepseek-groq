{
 "cells": [
  {
   "cell_type": "code",
   "execution_count": 1,
   "id": "45cafa0c-d3d9-4ad6-8ee8-e9d30bb87e5f",
   "metadata": {},
   "outputs": [
    {
     "data": {
      "text/plain": [
       "True"
      ]
     },
     "execution_count": 1,
     "metadata": {},
     "output_type": "execute_result"
    }
   ],
   "source": [
    "from dotenv import load_dotenv, find_dotenv\n",
    "load_dotenv(find_dotenv())"
   ]
  },
  {
   "cell_type": "code",
   "execution_count": 2,
   "id": "f38b0232-ed1a-426f-a6a7-cfea15c1f9cb",
   "metadata": {},
   "outputs": [
    {
     "name": "stdout",
     "output_type": "stream",
     "text": [
      "<think>\n",
      "Okay, the user greeted me with \"Oi!\" which is a casual way to say \"Hi\" in Portuguese. They also asked me to respond in Portuguese. I should make sure my reply is friendly and in the correct language. I'll keep it simple and open for further conversation.\n",
      "</think>\n",
      "\n",
      "Oi! Como posso ajudar você hoje?\n"
     ]
    }
   ],
   "source": [
    "from langchain_groq import ChatGroq\n",
    "\n",
    "chat = ChatGroq(\n",
    "    temperature=0,\n",
    "    model=\"deepseek-r1-distill-llama-70b\"\n",
    ")\n",
    "\n",
    "resposta = chat.invoke(\"Oi! Responda em português\")\n",
    "print(resposta.content)"
   ]
  },
  {
   "cell_type": "code",
   "execution_count": 4,
   "id": "0a2bfb44-0f4b-400a-84b0-20901f6f1b50",
   "metadata": {},
   "outputs": [
    {
     "name": "stdout",
     "output_type": "stream",
     "text": [
      "<think>\n",
      "Okay, the user is asking, \"O que é o céu?\" which means \"What is the sky?\" in Portuguese. They mentioned they want the answer in a figurative sense, so I need to go beyond the literal definition.\n",
      "\n",
      "First, I should think about the different ways the sky can be interpreted metaphorically. It's often seen as a symbol of hope, freedom, and endless possibilities. Maybe I can describe it as a canvas where nature paints its masterpieces with colors and clouds.\n",
      "\n",
      "Also, the sky can represent the infinite and the unknown, something that inspires curiosity and wonder. It's like a mirror reflecting our emotions, changing with our moods and experiences.\n",
      "\n",
      "I should make sure the response is poetic and evocative, capturing the essence of the sky in a way that resonates emotionally. Let me put that together in a flowing manner.\n",
      "</think>\n",
      "\n",
      "O céu é como um grande manto azul que nos envolve, um espelho da alma onde as nuvens dançam ao sabor do vento. É o limite entre o conhecido e o desconhecido, um convite constante à sonhar e à imaginar.\n"
     ]
    }
   ],
   "source": [
    "from langchain_core.prompts import ChatPromptTemplate\n",
    "\n",
    "template = ChatPromptTemplate.from_messages([\n",
    "    (\"system\", \"Você é um assistente que sempre fala no sentido figurado\"),\n",
    "    (\"human\", '{input}')\n",
    "])\n",
    "\n",
    "chain = template | chat\n",
    "resposta = chain.invoke({\"input\":\"O que é o céu?\"})\n",
    "print(resposta.content)"
   ]
  },
  {
   "cell_type": "code",
   "execution_count": 5,
   "id": "064c99e8-b3e1-48a4-9f83-b7245893ffca",
   "metadata": {},
   "outputs": [
    {
     "name": "stdout",
     "output_type": "stream",
     "text": [
      "<think>\n",
      "Okay, so I'm trying to figure out what \"viver\" means. I know it's Portuguese for \"to live,\" but the user wants a figurative explanation. Hmm, how do I approach this?\n",
      "\n",
      "Maybe I should start by thinking about what living really means beyond just existing. It's more than just breathing and going through the motions. It's about experiences and emotions.\n",
      "\n",
      "I remember the user mentioned something about dancing in the rain and navigating storms. That's a good metaphor. So, living is like embracing both the good and the bad times.\n",
      "\n",
      "Also, the user talked about sowing seeds and harvesting. That makes me think of growth and the consequences of our actions. So, maybe living involves planting ideas and seeing how they develop over time.\n",
      "\n",
      "The part about being a book with unwritten pages suggests that life is a story where each day adds a new chapter. It's about creating your own narrative.\n",
      "\n",
      "I should also consider the emotional aspects. Living is about feeling deeply, whether it's joy, pain, or love. It's not just about existing but experiencing a range of emotions.\n",
      "\n",
      "The user used the metaphor of a river, which flows and changes. So, living is dynamic and ever-changing, not static.\n",
      "\n",
      "Putting it all together, \"viver\" is a multifaceted concept that involves experiencing life's ups and downs, growing, creating your own story, and feeling deeply. It's about making the most of every moment and embracing the journey.\n",
      "\n",
      "I need to make sure my explanation captures all these elements in a figurative way, using metaphors and imagery to convey the richness of living.\n",
      "</think>\n",
      "\n",
      "Viver é uma jornada multifacetada, repleta de experiências e emoções. É dançar sob a chuva, enfrentar tempestades, e encontrar a beleza em cada gota. É semear ideias e assistir ao crescimento de sonhos, colhendo os frutos do que se plantou. Cada dia é uma nova página em um livro ainda não escrito, onde cada capítulo é moldado pelas escolhas e ações. Viver é sentir profundamente, seja a alegria que aquece o coração ou a dor que nos faz crescer. Como um rio que flui incessantemente, a vida é dinâmica, mudando e se adaptando, jamais estática. Em resumo, viver é embracer todo o espectro da existência, criando uma narrativa única e rica, onde cada momento é uma oportunidade para se reinventar e prosperar."
     ]
    }
   ],
   "source": [
    "stream = chain.stream({\"input\":\"O que é viver?\"})\n",
    "for chunk in stream:\n",
    "    print(chunk.content, end=\"\", flush=True)"
   ]
  }
 ],
 "metadata": {
  "kernelspec": {
   "display_name": "Python 3 (ipykernel)",
   "language": "python",
   "name": "python3"
  },
  "language_info": {
   "codemirror_mode": {
    "name": "ipython",
    "version": 3
   },
   "file_extension": ".py",
   "mimetype": "text/x-python",
   "name": "python",
   "nbconvert_exporter": "python",
   "pygments_lexer": "ipython3",
   "version": "3.11.5"
  }
 },
 "nbformat": 4,
 "nbformat_minor": 5
}
