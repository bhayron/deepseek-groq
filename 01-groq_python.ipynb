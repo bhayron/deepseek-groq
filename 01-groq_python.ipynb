{
 "cells": [
  {
   "cell_type": "code",
   "execution_count": 3,
   "id": "2a160f5d-6aa7-41f4-8ab0-f0583ea4d36c",
   "metadata": {},
   "outputs": [
    {
     "data": {
      "text/plain": [
       "True"
      ]
     },
     "execution_count": 3,
     "metadata": {},
     "output_type": "execute_result"
    }
   ],
   "source": [
    "from dotenv import load_dotenv, find_dotenv\n",
    "load_dotenv(find_dotenv())"
   ]
  },
  {
   "cell_type": "code",
   "execution_count": 4,
   "id": "b4964f1e-954e-4576-960a-cf0f2d02f1dc",
   "metadata": {},
   "outputs": [],
   "source": [
    "from groq import Groq\n",
    "client = Groq()"
   ]
  },
  {
   "cell_type": "code",
   "execution_count": 10,
   "id": "05123707-342b-48dc-8cdb-ba29d52b20d5",
   "metadata": {},
   "outputs": [],
   "source": [
    "mensagens = [\n",
    "    {\n",
    "        \"role\": \"user\",\n",
    "        \"content\": \"Explique a diferença entre llm e langchain. Responda em português\"\n",
    "    }\n",
    "]\n",
    "\n",
    "resposta = client.chat.completions.create(\n",
    "    messages=mensagens,\n",
    "    model=\"deepseek-r1-distill-llama-70b\"\n",
    ")"
   ]
  },
  {
   "cell_type": "code",
   "execution_count": 12,
   "id": "03168314-f18e-49c2-85c0-db96fc52e25d",
   "metadata": {},
   "outputs": [
    {
     "name": "stdout",
     "output_type": "stream",
     "text": [
      "<think>\n",
      "Okay, I need to explain the difference between LLM and LangChain in Portuguese. Let me break this down.\n",
      "\n",
      "First, LLM stands for Large Language Model. These are AI systems trained on vast amounts of text data to understand and generate human-like language. They can do things like answer questions, write text, and translate languages. Examples include GPT-3 and BERT.\n",
      "\n",
      "On the other hand, LangChain is a framework that helps build applications using LLMs. It's like a tool that connects different AI models with other technologies to create more complex systems. LangChain isn't an LLM itself but makes it easier to use them in real-world applications.\n",
      "\n",
      "So, the main difference is that LLM is the AI model, while LangChain is the framework that helps apply these models in practical ways. LLMs handle the language understanding and generation, whereas LangChain focuses on integrating and enhancing these capabilities within applications.\n",
      "</think>\n",
      "\n",
      "A diferença entre LLM (Large Language Model) e LangChain pode ser explicada da seguinte forma:\n",
      "\n",
      "### LLM (Large Language Model):\n",
      "- **Definição**: Um LLM é um tipo de modelo de inteligência artificial treinado em grandes conjuntos de dados textuais. Ele é projetado para entender e gerar texto de forma semelhante à linguagem humana.\n",
      "- **Funções Principais**: \n",
      "  - Responder perguntas.\n",
      "  - Gerar texto.\n",
      "  - Traduzir idiomas.\n",
      "  - Resumir conteúdo.\n",
      "  - E mais.\n",
      "- **Exemplos**: GPT-3, BERT, T5, entre outros.\n",
      "\n",
      "### LangChain:\n",
      "- **Definição**: LangChain é um framework (estrutura) que ajuda a construir aplicações usando LLMs. Ele serve como uma ponte entre os modelos de linguagem e outros sistemas ou tecnologias.\n",
      "- **Funções Principais**:\n",
      "  - Integração de LLMs com bancos de dados.\n",
      "  - Criação de fluxos de trabalho que combinam múltiplos modelos.\n",
      "  - Gerenciamento de contexto e estado em aplicações.\n",
      "  - Integração com APIs e outros serviços.\n",
      "- **Propósito**: Facilitar a criação de aplicações práticas que usem os LLMs de forma mais eficiente e integrada.\n",
      "\n",
      "### Diferença Principal:\n",
      "- **LLM**: É o modelo de linguagem em si, responsável por processar e gerar texto.\n",
      "- **LangChain**: É a estrutura que permite que os LLMs sejam usados de forma mais eficaz em aplicações reais, integrando-os com outros recursos e tecnologias.\n",
      "\n",
      "Em resumo, o LLM é o \"cérebro\" que entende e gera linguagem, enquanto o LangChain é a \"infraestrutura\" que conecta esse cérebro a outros sistemas para criar aplicações mais complexas e úteis.\n"
     ]
    }
   ],
   "source": [
    "print(resposta.choices[0].message.content)"
   ]
  },
  {
   "cell_type": "code",
   "execution_count": 13,
   "id": "90ce7752-d3d9-4681-b4db-505d0cddc714",
   "metadata": {},
   "outputs": [
    {
     "name": "stdout",
     "output_type": "stream",
     "text": [
      "<think>\n",
      "Okay, so I need to explain the difference between LLM and LangChain in Portuguese. Hmm, I remember that LLM stands for Large Language Model, which are those big AI models like GPT that can understand and generate human-like text. They're trained on vast amounts of data and can do things like answer questions, write essays, or even have conversations.\n",
      "\n",
      "Now, LangChain. I'm a bit fuzzy on that. I think it's related to making LLMs more useful by connecting them with other tools or data sources. Maybe it's a framework or a system that allows you to chain together different applications or data so the LLM can use them to provide better responses. So, instead of the LLM just relying on its training data, it can access external information or tools in real-time.\n",
      "\n",
      "Wait, so LLM is the actual AI model, while LangChain is more about how you use that model by integrating it with other things. Like, LLM is the brain, and LangChain is the system that connects the brain to other parts of the body or external resources to make it more capable.\n",
      "\n",
      "I should probably structure this explanation by first defining each term separately, then comparing them. Maybe start with LLM, explaining what it does and its limitations, like being limited to its training data. Then introduce LangChain as a way to overcome those limitations by enabling the model to interact with external data and tools.\n",
      "\n",
      "I should also mention examples of how LangChain can be used, like pulling fresh data from the internet or using external APIs to get the latest information. This makes the LLM's responses more accurate and up-to-date. Also, LangChain might allow for more complex tasks by combining multiple steps or applications, which the LLM alone might not handle as effectively.\n",
      "\n",
      "I need to make sure the explanation is clear and in Portuguese, avoiding any technical jargon that might confuse someone who's not familiar with AI terms. Maybe use analogies, like LLM being a knowledgeable person with limited knowledge, and LangChain being the tools and resources that person can access to provide better answers.\n",
      "\n",
      "I should also check if there are any specific features of LangChain that are important to highlight, like its ability to chain applications or its support for different data sources and APIs. This would show how it enhances the functionality of the LLM.\n",
      "\n",
      "Alright, I think I have a good outline. Now, I'll put it all together in Portuguese, making sure each part is explained clearly and the differences are highlighted effectively.\n",
      "</think>\n",
      "\n",
      "**Explicação da Diferença entre LLM e LangChain**\n",
      "\n",
      "**LLM (Large Language Model):**\n",
      "Um LLM é um tipo de modelo de inteligência artificial treinado para entender e gerar texto humano. Exemplos incluem o GPT. Esses modelos são alimentados por grandes conjuntos de dados e podem realizar tarefas como responder perguntas, redigir textos e até manter conversas. No entanto, suas respostas são baseadas exclusivamente nos dados de treinamento, o que pode limitar sua capacidade de fornecer informações atualizadas ou acessar dados externos.\n",
      "\n",
      "**LangChain:**\n",
      "LangChain é um framework projetado para ampliar as capacidades dos LLMs, permitindo que eles interajam com ferramentas e dados externos. Em vez de depender apenas de seu treinamento interno, um LLM integrado ao LangChain pode acessar informações em tempo real, utilizar APIs e combinar múltiplas aplicações. Isso possibilita respostas mais precisas e atualizadas, além de permitir a execução de tarefas complexas que um LLM isolado talvez não conseguisse realizar.\n",
      "\n",
      "**Resumo das Diferenças:**\n",
      "- **LLM:** Modelo de IA que gera texto com base em dados históricos.\n",
      "- **LangChain:** Sistema que conecta o LLM a recursos externos, melhorando sua funcionalidade.\n",
      "\n",
      "**Conclusão:**\n",
      "Enquanto o LLM é o \"cérebro\" por trás das respostas, o LangChain atua como um sistema que conecta esse cérebro a ferramentas e dados externos, permitindo respostas mais informadas e atualizadas.None"
     ]
    }
   ],
   "source": [
    "mensagens = [\n",
    "    {\n",
    "        \"role\": \"user\",\n",
    "        \"content\": \"Explique a diferença entre llm e langchain. Responda em português\"\n",
    "    }\n",
    "]\n",
    "\n",
    "stream = client.chat.completions.create(\n",
    "    messages=mensagens,\n",
    "    model=\"deepseek-r1-distill-llama-70b\",\n",
    "    stream=True\n",
    ")\n",
    "\n",
    "for chunk in stream:\n",
    "    print(chunk.choices[0].delta.content, end=\"\", flush=True)"
   ]
  }
 ],
 "metadata": {
  "kernelspec": {
   "display_name": "Python 3 (ipykernel)",
   "language": "python",
   "name": "python3"
  },
  "language_info": {
   "codemirror_mode": {
    "name": "ipython",
    "version": 3
   },
   "file_extension": ".py",
   "mimetype": "text/x-python",
   "name": "python",
   "nbconvert_exporter": "python",
   "pygments_lexer": "ipython3",
   "version": "3.11.5"
  }
 },
 "nbformat": 4,
 "nbformat_minor": 5
}
